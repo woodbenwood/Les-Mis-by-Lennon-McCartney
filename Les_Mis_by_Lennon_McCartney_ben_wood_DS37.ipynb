{
  "cells": [
    {
      "cell_type": "markdown",
      "metadata": {
        "id": "iovQcSbqJl0_"
      },
      "source": [
        "## Objectives:\n",
        "- compute the cosine similarity between a number of song lyrics (as vectors)\n",
        "- with the largest cosine similarity of OVER 50%, PROVE that the author of \"Penny Lane,\" Paul McCartney (Lennon/McCartney) also wrote \"In My Life\" from the hit 1980 musical *LES MISERABLES*\n",
        "- further, with analysis of Ringo Starr's \"Octopus' Garden,\" and George Harrison's \"Within You Without You,\" identify which Beatle played Marius and which Eponine in the now-lost Beatles concept album of the hit Les Mis quartet"
      ]
    },
    {
      "cell_type": "markdown",
      "metadata": {
        "id": "PVN7eDxLnAhN"
      },
      "source": [
        "#All You Need is Cosine Similarity"
      ]
    },
    {
      "cell_type": "markdown",
      "metadata": {
        "id": "249THg5iYSMz"
      },
      "source": [
        "##Background Math\n",
        "\n",
        "With cosine similarity, we can quantify the relationship between two variables. A vector is a quantity with both magnitude and direction. Similarity between 2D vectors, graphed as arrows, can be measured by the angle between them. If they're exactly the same, there is no angle between them (angle = 0 degrees.) The degree can be determined by calculating the cosine. \n",
        "\n",
        "**CLARIFY THIS: (Recall that a cosine of 0 graphs to 1, so hereafter, when measuring a cosine as a percentage, the higher the cosine simliarity (on a scale of 0 to 1,) the higher the similarity. ** *italicized text* When the two vectors are exactly the same $\\theta=0$ and $\\cos\\theta=1$ (\n",
        "When the two vectors are perpendicular to each other $\\theta=90$ and $\\cos\\theta=0$ )"
      ]
    },
    {
      "cell_type": "markdown",
      "metadata": {
        "id": "CGFtq9LWTYU-"
      },
      "source": [
        "MARKED FOR DELETION--\n",
        "\n",
        "Think about one of our vectors as the adjacent side of a triangle and one as the hypotenuse.  The cosine of the angle measures the relationship of the hypotenuse and the adjacent side.  \n",
        "\n",
        "$$\\cos(\\theta) = \\frac{adj}{hyp}$$"
      ]
    },
    {
      "cell_type": "markdown",
      "metadata": {
        "id": "81hcm9kEYt2l"
      },
      "source": [
        "Because we're often dealing with multi-dimensional vectors, we need a more general formula to determine the cosine of the angle between the vectors."
      ]
    },
    {
      "cell_type": "markdown",
      "metadata": {
        "id": "2zX7_KztkYT3"
      },
      "source": [
        "The cosine of two non-zero vectors can be derived by using the Euclidean dot product formula:\n",
        "\n",
        "$$\\mathbf {A} \\cdot \\mathbf {B} =\\left\\|\\mathbf {A} \\right\\|\\left\\|\\mathbf {B} \\right\\|\\cos \\theta$$\n",
        "\n",
        "Solving for $\\cos\\theta$ we get\n",
        "\n",
        "$$\\cos \\theta= \\frac{\\mathbf {A} \\cdot \\mathbf {B} }{\\left\\|\\mathbf {A} \\right\\|\\left\\|\\mathbf {B} \\right\\|}$$\n",
        "\n",
        "$\\qquad$\n",
        "\n",
        "The numerator is the dot product of the vectors $\\mathbf {A}$ and $\\mathbf {B}$\n",
        "\n",
        "The denominator is the norm of $\\mathbf {A}$ times the norm of $\\mathbf {B}$\n"
      ]
    },
    {
      "cell_type": "markdown",
      "metadata": {
        "id": "J10sSUChlzRH"
      },
      "source": [
        "###Let's look at an example"
      ]
    },
    {
      "cell_type": "markdown",
      "metadata": {
        "id": "9k2KIZbTl2kb"
      },
      "source": [
        "The song writing collaboration between John Lennon and Paul McCartney was one of the most productive in music history.  Unlike many other partnerships where one individual wrote lyrics and one wrote music, Lennon and McCartney composed both, and it was decided that any song that was written would be credited to both.  In the beginning of their relationship, many of their songs were collaborations.  However, later on, they often worked separately with little to no input from the other.    "
      ]
    },
    {
      "cell_type": "markdown",
      "metadata": {
        "id": "LsUaHKcEnhqc"
      },
      "source": [
        "Because of extensive reporting on the Beatles over the years, it is generally known if a Lennon-McCartney song was a true collaboration, primarily written by Lennon, or primarily written by McCartney.  \n",
        "\n",
        "However, there are several disputed songs where both Lennon and McCartney at times claimed to be the sole (or primary) composer.\n",
        "\n",
        "We will use cosine similarity to determine if *In My Life* (disputed) is most similar to *From Me to You* (collaboration, not disputed), *Strawberry Fields* (Lennon, not disputed) or *Penny Lane* (McCartney, not disputed)."
      ]
    },
    {
      "cell_type": "markdown",
      "metadata": {
        "id": "vyh_lahmogO7"
      },
      "source": [
        "Let's start by looking at the text of Strawberry Fields, which we know was written by John Lennon.  We can actually copy the lyrics to the entire song (removing punctuation and capitals from the first words of sentences) as a string and then convert that string into a data frame.\n",
        "\n",
        "---\n",
        "\n"
      ]
    },
    {
      "cell_type": "code",
      "source": [
        "Les_Mis = \"How strange This feeling that my lifes begun at last This change Can people really fall in love so fast Whats the matter with you Cosette Have you been to much on your own So many things unclear So many things unknown In my life There are so many questions and answers That somehow seem wrong In my life There are times when I catch in the silence The sigh of a faraway song And it sings Of a world that I long to see Out of reach Just a whisper away waiting for me Does he know Im alive Do I know if hes real Does he see what I see Does he feel what I feel In my life Im no longer alone Now the love in my life is so near Find me now Find me here Dear Cosette Youre such a a lonely child How pensive how sad you seem to me Believe me Were it within my power Id fill each passing hour How quiet it must be I can see With only me for company Theres so little I know that Im longing to know Of the man that you were in a time long ago Please Cosette Theres so little you say of the life you have known Why you keep to yourself Why were always alone So dark so dark and deep The secrets that you keep In my life Please forgive what I say You are loving and gentle and good But Papa Dear Papa In your eyes I am still like the child Whos lost in a wood No more words No more words its a time that is dead There are words That are better unheard Better unsaid In my life Im no longer a child And I yearn for the truth that you know Of the years Years ago You will learn Truth is given by God to us all in our time In our turn\"\n",
        "import pandas as pd\n",
        "\n",
        "Les_Mis = Les_Mis.lower()\n",
        "\n",
        "Les_Mis_df = pd.DataFrame({'words' : Les_Mis.split()})\n",
        "Les_Mis_df.head()\n",
        "Les_Mis_freq = pd.crosstab(index = Les_Mis_df['words'], columns = 'count')"
      ],
      "metadata": {
        "id": "A_P_Z_Wa4Cty"
      },
      "execution_count": 1,
      "outputs": []
    },
    {
      "cell_type": "code",
      "execution_count": 3,
      "metadata": {
        "id": "6SuKxo-lYsCR"
      },
      "outputs": [],
      "source": [
        "import pandas as pd\n",
        "\n",
        "#Strawberry Fields - John Lennon (not disputed)\n",
        "  \n",
        "Strawberry_ = \"let me take you down cause Im going to Strawberry Fields nothing is real and nothing to get hung about Strawberry Fields forever living is easy with eyes closed misunderstanding all you see its getting hard to be someone but it all works out it doesnt matter much to me let me take you down cause Im going to Strawberry Fields nothing is real and nothing to get hung about Strawberry Fields forever no one I think is in my tree I mean it must be high or low that is you cant you know tune in but its all right that is I think its not too bad let me take you down cause Im going to Strawberry Fields nothing is real and nothing to get hung about Strawberry Fields forever always no sometimes think but you know I know when it's a dream I think er no I mean er yes but its all wrong that is I think I disagree let me take you down cause Im going to Strawberry Fields nothing is real and nothing to get hung about Strawberry Fields forever Strawberry Fields forever Strawberry Fields forever\"\n",
        "Strawberry_ = Strawberry_.lower()\n",
        "Strawberry_df = pd.DataFrame({'words' : Strawberry_.split()})\n"
      ]
    },
    {
      "cell_type": "markdown",
      "metadata": {
        "id": "B75P8W7jqKnl"
      },
      "source": [
        "The way we are going to determine if two songs are similar is by comparing how frequently words appear in each song. We can make a frequency table to determine how many times each word appears in Strawberry Fields."
      ]
    },
    {
      "cell_type": "code",
      "execution_count": 4,
      "metadata": {
        "id": "eu7cbuJB_mBq"
      },
      "outputs": [],
      "source": [
        "straw_freq = pd.crosstab(index= Strawberry_df['words'], columns = 'count')"
      ]
    },
    {
      "cell_type": "markdown",
      "metadata": {
        "id": "CdsTtNGcrc2y"
      },
      "source": [
        "Now let's do the same with Penny Lane - a song we know was written by McCartney"
      ]
    },
    {
      "cell_type": "code",
      "execution_count": 5,
      "metadata": {
        "id": "Fh89MZnHAgcc"
      },
      "outputs": [],
      "source": [
        "import pandas as pd\n",
        "\n",
        "#Penny Lane - Paul McCartney (not disputed)\n",
        "\n",
        "Lane_ = \"in Penny Lane there is a barber showing photographs of every head hes had the pleasure to know and all the people that come and go stop and say hello on the corner is a banker with a motorcar and little children laugh at him behind his back and the banker never wears a mac in the pouring rain very strange Penny Lane is in my ears and in my eyes there beneath the blue suburban skies I sit and meanwhile back in Penny Lane there is a fireman with an hourglass and in his pocket is a portrait of the Queen he likes to keep his fire engine clean its a clean machine Penny Lane is in my ears and in my eyes a four of fish and finger pies in summer meanwhile back behind the shelter in the middle of the roundabout the pretty nurse is selling poppies from a tray and though she feels as if shes in a play ahe is anyway in Penny Lane the barber shaves another customer we see the banker sitting waiting for a trim and then the fireman rushes in from the pouring rain very strange Penny Lane is in my ears and in my eyes there beneath the blue suburban skies I sit and meanwhile back Penny Lane is in my ears and in my eyes there beneath the blue suburban skies Penny Lane\"\n",
        "Lane_ = Lane_.lower()\n",
        "Lane_df = pd.DataFrame({'words' : Lane_.split()})\n",
        "Lane_df.head()\n",
        "Lane_freq = pd.crosstab(index = Lane_df['words'], columns = 'count')"
      ]
    },
    {
      "cell_type": "code",
      "source": [
        "#cleaned up by me: \n",
        "import pandas as pd\n",
        "\n",
        "Penny_Lane_clean = \"In Penny Lane there is a barber showing photographs Of every head hes had the pleasure to know And all the people that come and go Stop and say hello On the corner is a banker with a motorcar And little children laugh at him behind his back And the banker never wears a mac in the pouring rain Very strange Penny Lane is in my ears and in my eyes Wet beneath the blue suburban skies I sit and meanwhile back in Penny Lane there is a fireman with an hourglass And in his pocket is a portrait of the Queen He likes to keep his fire engine clean Its a clean machine Penny Lane is in my ears and in my eyes A four of fish and finger pies In summer meanwhile back Behind the shelter in the middle of a roundabout A pretty nurse is selling poppies from a tray And though she feels as if shes in a play She is anyway Penny Lane the barber shaves another customer We see the banker sitting waiting for a trim And then the fireman rushes in from the pouring rain Very strange Penny Lane is in my ears and in my eyes There beneath the blue suburban skies I sit and meanwhile back Penny Lane is in my ears and in my eyes There beneath the blue suburban skies Penny Lane\"\n",
        "Penny_Lane_clean = Lane_.lower()\n",
        "Lane_df = pd.DataFrame({'words' : Penny_Lane_clean.split()})\n",
        "Lane_df.head()\n",
        "Lane_freq = pd.crosstab(index = Lane_df['words'], columns = 'count')"
      ],
      "metadata": {
        "id": "mCOZa8e9pUMZ"
      },
      "execution_count": 7,
      "outputs": []
    },
    {
      "cell_type": "markdown",
      "metadata": {
        "id": "c8ieic21sH4j"
      },
      "source": [
        "Now we are going to concatenate the two data sets so that there is one row for each word that appears in either song and one column for each song that counts how many times that word appears in the song's lyrics."
      ]
    },
    {
      "cell_type": "code",
      "execution_count": 8,
      "metadata": {
        "id": "5GYIQ3jf88MI"
      },
      "outputs": [],
      "source": [
        "# Compare Strawberry Fields to Penny Lane\n",
        "\n",
        "from numpy import dot\n",
        "from numpy.linalg import norm\n",
        "\n",
        "dfs = [straw_freq, Lane_freq]\n",
        "all_words = pd.concat(dfs, axis= 1)"
      ]
    },
    {
      "cell_type": "code",
      "source": [
        "LM_straw = [straw_freq, Les_Mis_freq]\n",
        "LM_straw_words = pd.concat(LM_straw, axis= 1)\n",
        "LM_penny = [Lane_freq, Les_Mis_freq]\n",
        "LM_penny_words = pd.concat(LM_penny, axis= 1)"
      ],
      "metadata": {
        "id": "UKsNdBp9RWjK"
      },
      "execution_count": 9,
      "outputs": []
    },
    {
      "cell_type": "markdown",
      "metadata": {
        "id": "hJ-wIIvzuBaV"
      },
      "source": [
        "We want to rename the first column so we know it is the word count from Strawberry Fields and the second column so we know it is the word count from Penny Lane.  \n",
        "\n",
        "Also, we want to change the NaNs present to 0s because they indicate that a word that was in one song was not included in the other song."
      ]
    },
    {
      "cell_type": "code",
      "execution_count": 10,
      "metadata": {
        "id": "ptEDEGNzt5Zz"
      },
      "outputs": [],
      "source": [
        "all_words = all_words.fillna(0)\n",
        "all_words.columns = ['Strawberry', 'Penny_Lane']\n",
        "#all_words"
      ]
    },
    {
      "cell_type": "code",
      "source": [
        "#LM = Les Mis not Lennon/McCartney. Build the columns to compare lyrics:\n",
        "LM_straw_words = LM_straw_words.fillna(0)\n",
        "LM_penny_words = LM_penny_words.fillna(0)\n",
        "LM_straw_words.columns = ['Strawberry', 'Les_Mis']\n",
        "LM_penny_words.columns = ['Penny_Lane', 'Les_Mis']\n",
        "LM_straw_words\n",
        "LM_penny_words"
      ],
      "metadata": {
        "colab": {
          "base_uri": "https://localhost:8080/",
          "height": 455
        },
        "id": "qfeOM5AhSKxd",
        "outputId": "911ee9a2-3e8a-4e1a-8abd-215f26c1d190"
      },
      "execution_count": 11,
      "outputs": [
        {
          "output_type": "execute_result",
          "data": {
            "text/plain": [
              "          Penny_Lane  Les_Mis\n",
              "words                        \n",
              "a               11.0      9.0\n",
              "ahe              1.0      0.0\n",
              "all              1.0      1.0\n",
              "an               1.0      0.0\n",
              "and             15.0      6.0\n",
              "...              ...      ...\n",
              "years            0.0      2.0\n",
              "you              0.0     11.0\n",
              "your             0.0      2.0\n",
              "youre            0.0      1.0\n",
              "yourself         0.0      1.0\n",
              "\n",
              "[232 rows x 2 columns]"
            ],
            "text/html": [
              "\n",
              "  <div id=\"df-dfc9c14d-9c57-445a-8c9d-2ff15939cff1\">\n",
              "    <div class=\"colab-df-container\">\n",
              "      <div>\n",
              "<style scoped>\n",
              "    .dataframe tbody tr th:only-of-type {\n",
              "        vertical-align: middle;\n",
              "    }\n",
              "\n",
              "    .dataframe tbody tr th {\n",
              "        vertical-align: top;\n",
              "    }\n",
              "\n",
              "    .dataframe thead th {\n",
              "        text-align: right;\n",
              "    }\n",
              "</style>\n",
              "<table border=\"1\" class=\"dataframe\">\n",
              "  <thead>\n",
              "    <tr style=\"text-align: right;\">\n",
              "      <th></th>\n",
              "      <th>Penny_Lane</th>\n",
              "      <th>Les_Mis</th>\n",
              "    </tr>\n",
              "    <tr>\n",
              "      <th>words</th>\n",
              "      <th></th>\n",
              "      <th></th>\n",
              "    </tr>\n",
              "  </thead>\n",
              "  <tbody>\n",
              "    <tr>\n",
              "      <th>a</th>\n",
              "      <td>11.0</td>\n",
              "      <td>9.0</td>\n",
              "    </tr>\n",
              "    <tr>\n",
              "      <th>ahe</th>\n",
              "      <td>1.0</td>\n",
              "      <td>0.0</td>\n",
              "    </tr>\n",
              "    <tr>\n",
              "      <th>all</th>\n",
              "      <td>1.0</td>\n",
              "      <td>1.0</td>\n",
              "    </tr>\n",
              "    <tr>\n",
              "      <th>an</th>\n",
              "      <td>1.0</td>\n",
              "      <td>0.0</td>\n",
              "    </tr>\n",
              "    <tr>\n",
              "      <th>and</th>\n",
              "      <td>15.0</td>\n",
              "      <td>6.0</td>\n",
              "    </tr>\n",
              "    <tr>\n",
              "      <th>...</th>\n",
              "      <td>...</td>\n",
              "      <td>...</td>\n",
              "    </tr>\n",
              "    <tr>\n",
              "      <th>years</th>\n",
              "      <td>0.0</td>\n",
              "      <td>2.0</td>\n",
              "    </tr>\n",
              "    <tr>\n",
              "      <th>you</th>\n",
              "      <td>0.0</td>\n",
              "      <td>11.0</td>\n",
              "    </tr>\n",
              "    <tr>\n",
              "      <th>your</th>\n",
              "      <td>0.0</td>\n",
              "      <td>2.0</td>\n",
              "    </tr>\n",
              "    <tr>\n",
              "      <th>youre</th>\n",
              "      <td>0.0</td>\n",
              "      <td>1.0</td>\n",
              "    </tr>\n",
              "    <tr>\n",
              "      <th>yourself</th>\n",
              "      <td>0.0</td>\n",
              "      <td>1.0</td>\n",
              "    </tr>\n",
              "  </tbody>\n",
              "</table>\n",
              "<p>232 rows × 2 columns</p>\n",
              "</div>\n",
              "      <button class=\"colab-df-convert\" onclick=\"convertToInteractive('df-dfc9c14d-9c57-445a-8c9d-2ff15939cff1')\"\n",
              "              title=\"Convert this dataframe to an interactive table.\"\n",
              "              style=\"display:none;\">\n",
              "        \n",
              "  <svg xmlns=\"http://www.w3.org/2000/svg\" height=\"24px\"viewBox=\"0 0 24 24\"\n",
              "       width=\"24px\">\n",
              "    <path d=\"M0 0h24v24H0V0z\" fill=\"none\"/>\n",
              "    <path d=\"M18.56 5.44l.94 2.06.94-2.06 2.06-.94-2.06-.94-.94-2.06-.94 2.06-2.06.94zm-11 1L8.5 8.5l.94-2.06 2.06-.94-2.06-.94L8.5 2.5l-.94 2.06-2.06.94zm10 10l.94 2.06.94-2.06 2.06-.94-2.06-.94-.94-2.06-.94 2.06-2.06.94z\"/><path d=\"M17.41 7.96l-1.37-1.37c-.4-.4-.92-.59-1.43-.59-.52 0-1.04.2-1.43.59L10.3 9.45l-7.72 7.72c-.78.78-.78 2.05 0 2.83L4 21.41c.39.39.9.59 1.41.59.51 0 1.02-.2 1.41-.59l7.78-7.78 2.81-2.81c.8-.78.8-2.07 0-2.86zM5.41 20L4 18.59l7.72-7.72 1.47 1.35L5.41 20z\"/>\n",
              "  </svg>\n",
              "      </button>\n",
              "      \n",
              "  <style>\n",
              "    .colab-df-container {\n",
              "      display:flex;\n",
              "      flex-wrap:wrap;\n",
              "      gap: 12px;\n",
              "    }\n",
              "\n",
              "    .colab-df-convert {\n",
              "      background-color: #E8F0FE;\n",
              "      border: none;\n",
              "      border-radius: 50%;\n",
              "      cursor: pointer;\n",
              "      display: none;\n",
              "      fill: #1967D2;\n",
              "      height: 32px;\n",
              "      padding: 0 0 0 0;\n",
              "      width: 32px;\n",
              "    }\n",
              "\n",
              "    .colab-df-convert:hover {\n",
              "      background-color: #E2EBFA;\n",
              "      box-shadow: 0px 1px 2px rgba(60, 64, 67, 0.3), 0px 1px 3px 1px rgba(60, 64, 67, 0.15);\n",
              "      fill: #174EA6;\n",
              "    }\n",
              "\n",
              "    [theme=dark] .colab-df-convert {\n",
              "      background-color: #3B4455;\n",
              "      fill: #D2E3FC;\n",
              "    }\n",
              "\n",
              "    [theme=dark] .colab-df-convert:hover {\n",
              "      background-color: #434B5C;\n",
              "      box-shadow: 0px 1px 3px 1px rgba(0, 0, 0, 0.15);\n",
              "      filter: drop-shadow(0px 1px 2px rgba(0, 0, 0, 0.3));\n",
              "      fill: #FFFFFF;\n",
              "    }\n",
              "  </style>\n",
              "\n",
              "      <script>\n",
              "        const buttonEl =\n",
              "          document.querySelector('#df-dfc9c14d-9c57-445a-8c9d-2ff15939cff1 button.colab-df-convert');\n",
              "        buttonEl.style.display =\n",
              "          google.colab.kernel.accessAllowed ? 'block' : 'none';\n",
              "\n",
              "        async function convertToInteractive(key) {\n",
              "          const element = document.querySelector('#df-dfc9c14d-9c57-445a-8c9d-2ff15939cff1');\n",
              "          const dataTable =\n",
              "            await google.colab.kernel.invokeFunction('convertToInteractive',\n",
              "                                                     [key], {});\n",
              "          if (!dataTable) return;\n",
              "\n",
              "          const docLinkHtml = 'Like what you see? Visit the ' +\n",
              "            '<a target=\"_blank\" href=https://colab.research.google.com/notebooks/data_table.ipynb>data table notebook</a>'\n",
              "            + ' to learn more about interactive tables.';\n",
              "          element.innerHTML = '';\n",
              "          dataTable['output_type'] = 'display_data';\n",
              "          await google.colab.output.renderOutput(dataTable, element);\n",
              "          const docLink = document.createElement('div');\n",
              "          docLink.innerHTML = docLinkHtml;\n",
              "          element.appendChild(docLink);\n",
              "        }\n",
              "      </script>\n",
              "    </div>\n",
              "  </div>\n",
              "  "
            ]
          },
          "metadata": {},
          "execution_count": 11
        }
      ]
    },
    {
      "cell_type": "markdown",
      "metadata": {
        "id": "A1foHf3mumhO"
      },
      "source": [
        "Now we can have two numeric vectors that represent the lyric frequency of each song, and we an compare them using the cosine similarity.  "
      ]
    },
    {
      "cell_type": "code",
      "execution_count": 12,
      "metadata": {
        "id": "PUDYI4zxuZGc",
        "colab": {
          "base_uri": "https://localhost:8080/"
        },
        "outputId": "17a494ca-33e6-458d-dcab-86a708ecbbc8"
      },
      "outputs": [
        {
          "output_type": "execute_result",
          "data": {
            "text/plain": [
              "0.21590157172853788"
            ]
          },
          "metadata": {},
          "execution_count": 12
        }
      ],
      "source": [
        "#cos_sim = dot product Strawberry Fields and Penny Lane / norm(Strawberry Fields) * norm (Penny Lane)\n",
        "dot(all_words['Strawberry'], all_words[\"Penny_Lane\"]) / (norm(all_words['Strawberry']) * norm(all_words[\"Penny_Lane\"]))"
      ]
    },
    {
      "cell_type": "code",
      "source": [
        "dot(LM_straw_words['Strawberry'], LM_straw_words[\"Les_Mis\"]) / (norm(LM_straw_words['Strawberry']) * norm(LM_straw_words[\"Les_Mis\"]))"
      ],
      "metadata": {
        "colab": {
          "base_uri": "https://localhost:8080/"
        },
        "id": "CFChwAzpT-Pf",
        "outputId": "1e3dbbee-def6-4fc7-91a6-9b898beafd72"
      },
      "execution_count": 13,
      "outputs": [
        {
          "output_type": "execute_result",
          "data": {
            "text/plain": [
              "0.3924427854637147"
            ]
          },
          "metadata": {},
          "execution_count": 13
        }
      ]
    },
    {
      "cell_type": "code",
      "source": [
        "dot(LM_penny_words['Penny_Lane'], LM_penny_words[\"Les_Mis\"]) / (norm(LM_penny_words['Penny_Lane']) * norm(LM_penny_words[\"Les_Mis\"]))"
      ],
      "metadata": {
        "colab": {
          "base_uri": "https://localhost:8080/"
        },
        "id": "rA-nrAXpUOx2",
        "outputId": "432871d0-8337-465e-a343-b9d8c1f3fb87"
      },
      "execution_count": 14,
      "outputs": [
        {
          "output_type": "execute_result",
          "data": {
            "text/plain": [
              "0.5425218908918277"
            ]
          },
          "metadata": {},
          "execution_count": 14
        }
      ]
    },
    {
      "cell_type": "code",
      "source": [
        "marius = 'In my life She has burst like the music of angels The light of the sun And my life Seems to stop as if something is over And something has scarcely begun eponine Youre the friend who has brought me here Thanks to you I am one with the Gods And heaven is near And I saw through a world that is new That is free In my life There is someone who touches my life Waiting near'\n",
        "eponine = 'Every word that he says Is a dagger in me In my life Theres been no one like him anywhere Anywhere Where he is If he asked Id be his In my life There is someone who touches my life Waiting here'\n",
        "marius = marius.lower()\n",
        "eponine = eponine.lower()\n",
        "marius_df = pd.DataFrame({'words' : marius.split()})\n",
        "eponine_df = pd.DataFrame({'words' : eponine.split()}) \n",
        "marius_freq = pd.crosstab(index = marius_df['words'], columns = 'count')\n",
        "eponine_freq = pd.crosstab(index = eponine_df['words'], columns = 'count')\n"
      ],
      "metadata": {
        "id": "czZPIfQiG-R9"
      },
      "execution_count": 15,
      "outputs": []
    },
    {
      "cell_type": "code",
      "source": [
        "octopus = 'Id like to be Under the sea In an octopus garden In the shade Hed let us in Knows where weve been In his octopus garden In the shade Id ask my friends To come and see An octopus garden With me Id like to be Under the sea In an octopus garden In the shade We would be warm Below the storm In our little hideaway Beneath the waves Resting our head On the seabed In an octopus garden Near a cave We would sing And dance around Because we know We cant be found Id like to be Under the sea In an octopus garden In the shade We would shout And swim about The coral that lies Beneath the waves Lies beneath the ocean waves Oh what joy For every girl and boy Knowing theyre happy And theyre safe Happy and theyre safe We would be so happy You and me No one there to tell us What to do Id like to be Under the sea In an octopus garden With you In an octopus garden With you In an octopus garden With you'\n",
        "octopus = octopus.lower()\n",
        "octopus_df = pd.DataFrame({'words' : octopus.split()}) \n",
        "octopus_freq = pd.crosstab(index = octopus_df['words'], columns = 'count')"
      ],
      "metadata": {
        "id": "NE2LUi2iG-J9"
      },
      "execution_count": 16,
      "outputs": []
    },
    {
      "cell_type": "code",
      "source": [
        "within = 'We were talking about the space between us all And the people who hide themselves behind a wall of illusion Never glimpse the truth Then its far too late When they pass away We were talking about the love we all could share When we find it to try our best to hold it there with our love With our love we could save the world if they only knew Try to realise its all within yourself No one else can make you change And to see youre really only very small And life flows on within you and without you We were talking about the love thats gone so cold And the people who gain the world and lose their soul They dont know They cant see Are you one of them When youve seen beyond yourself then you may find Peace of mind is waiting there And the time will come when you see were all one And life flows on within you and without you'\n",
        "within = within.lower()\n",
        "within_df = pd.DataFrame({'words' : within.split()}) \n",
        "within_freq = pd.crosstab(index = within_df['words'], columns = 'count')"
      ],
      "metadata": {
        "id": "Wg9ri6scG93w"
      },
      "execution_count": 17,
      "outputs": []
    },
    {
      "cell_type": "code",
      "source": [
        "marius_octopus = [marius_freq, octopus_freq]\n",
        "marius_octopus_words = pd.concat(marius_octopus, axis= 1)\n",
        "marius_within = [marius_freq, within_freq]\n",
        "marius_within_words = pd.concat(marius_within, axis = 1)\n",
        "marius_octopus_words = marius_octopus_words.fillna(0)\n",
        "marius_within_words = marius_within_words.fillna(0)\n",
        "marius_octopus_words.columns = ['marius', 'octopus']\n",
        "marius_within_words.columns = ['marius', 'within']\n",
        "print('Ringo Starr as Marius: ')\n",
        "print(dot(marius_octopus_words['marius'], marius_octopus_words[\"octopus\"]) / (norm(marius_octopus_words['marius']) * norm(marius_octopus_words[\"octopus\"])))\n",
        "print('George Harrison as Marius: ')\n",
        "print(dot(marius_within_words['marius'], marius_within_words[\"within\"]) / (norm(marius_within_words['marius']) * norm(marius_within_words[\"within\"])))"
      ],
      "metadata": {
        "colab": {
          "base_uri": "https://localhost:8080/"
        },
        "id": "-kPe13KqOSow",
        "outputId": "d0735589-5f41-49de-b89c-25df495ee65a"
      },
      "execution_count": 18,
      "outputs": [
        {
          "output_type": "stream",
          "name": "stdout",
          "text": [
            "Ringo Starr as Marius: \n",
            "0.38419080719855575\n",
            "George Harrison as Marius: \n",
            "0.42904118721439827\n"
          ]
        }
      ]
    },
    {
      "cell_type": "code",
      "source": [
        "eponine_octopus = [eponine_freq, octopus_freq]\n",
        "eponine_octopus_words = pd.concat(eponine_octopus, axis= 1)\n",
        "eponine_within = [eponine_freq, within_freq]\n",
        "eponine_within_words = pd.concat(eponine_within, axis= 1)\n",
        "eponine_octopus_words = eponine_octopus_words.fillna(0)\n",
        "eponine_within_words = eponine_within_words.fillna(0)\n",
        "eponine_octopus_words.columns = ['eponine', 'octopus']\n",
        "eponine_within_words.columns = ['eponine', 'within']\n",
        "print('Ringo Starr as Eponine: ')\n",
        "print(dot(eponine_octopus_words['eponine'], eponine_octopus_words[\"octopus\"]) / (norm(eponine_octopus_words['eponine']) * norm(eponine_octopus_words[\"octopus\"])))\n",
        "print('George Harrison as Eponine: ')\n",
        "print(dot(eponine_within_words['eponine'], eponine_within_words[\"within\"]) / (norm(eponine_within_words['eponine']) * norm(eponine_within_words[\"within\"])))"
      ],
      "metadata": {
        "colab": {
          "base_uri": "https://localhost:8080/"
        },
        "id": "b_PfnUm0OUX7",
        "outputId": "b3aa7a5b-a11b-41d2-fc73-c7605cfd57d6"
      },
      "execution_count": 19,
      "outputs": [
        {
          "output_type": "stream",
          "name": "stdout",
          "text": [
            "Ringo Starr as Eponine: \n",
            "0.2585449118153828\n",
            "George Harrison as Eponine: \n",
            "0.09949879346007116\n"
          ]
        }
      ]
    },
    {
      "cell_type": "code",
      "source": [
        "cosette = 'How strange This feeling that my lifes begun at last This change Can people really fall in love so fast Whats the matter with you Cosette Have you been to much on your own So many things unclear So many things unknown In my life There are so many questions and answers That somehow seem wrong In my life There are times when I catch in the silence The sigh of a faraway song And it sings Of a world that I long to see Out of reach Just a whisper away waiting for me Does he know Im alive Do I know if hes real Does he see what I see Does he feel what I feel In my life Im no longer alone Now the love in my life is so near Find me now Find me here Theres so little I know that Im longing to know Of the man that you were in a time long ago Theres so little you say of the life you have known Why you keep to yourself Why were always alone So dark so dark and deep The secrets that you keep In my life Please forgive what I say You are loving and gentle and good But Papa Dear Papa In your eyes I am still like the child Whos lost in a wood In my life Im no longer a child And I yearn for the truth that you know Of the years Years ago'\n",
        "cosette = cosette.lower()\n",
        "valjean = 'Dear Cosette Youre such a lonely child How pensive how sad you seem to me Believe me Were it within my power Id fill each passing hour How quiet it must be I can see With only me for company Please Cosette No more words No more words its a time that is dead There are words That are better unheard Better unsaid You will learn Truth is given by God to us all in our time In our turn'\n",
        "valjean = valjean.lower()\n",
        "cosette_df = pd.DataFrame({'words' : cosette.split()})\n",
        "valjean_df = pd.DataFrame({'words' : valjean.split()}) \n",
        "cosette_freq = pd.crosstab(index = cosette_df['words'], columns = 'count')\n",
        "valjean_freq = pd.crosstab(index = valjean_df['words'], columns = 'count')"
      ],
      "metadata": {
        "id": "Jc_pZdw091n6"
      },
      "execution_count": 20,
      "outputs": []
    },
    {
      "cell_type": "code",
      "source": [
        "cosette_straw = [cosette_freq, straw_freq]\n",
        "cosette_straw_words = pd.concat(cosette_straw, axis= 1)\n",
        "cosette_penny = [cosette_freq, Lane_freq]\n",
        "cosette_penny_words = pd.concat(cosette_penny, axis= 1)\n",
        "valjean_straw = [valjean_freq, straw_freq]\n",
        "valjean_straw_words = pd.concat(valjean_straw, axis= 1)\n",
        "valjean_penny = [valjean_freq, Lane_freq]\n",
        "valjean_penny_words = pd.concat(valjean_penny, axis= 1)"
      ],
      "metadata": {
        "id": "gWtiUmS_-WVL"
      },
      "execution_count": 21,
      "outputs": []
    },
    {
      "cell_type": "code",
      "source": [
        "cosette_straw_words = cosette_straw_words.fillna(0)\n",
        "cosette_penny_words = cosette_penny_words.fillna(0)\n",
        "cosette_straw_words.columns = ['cosette', 'Strawberry']\n",
        "cosette_penny_words.columns = ['cosette', 'Penny_Lane']\n",
        "valjean_straw_words = valjean_straw_words.fillna(0)\n",
        "valjean_penny_words = valjean_penny_words.fillna(0)\n",
        "valjean_straw_words.columns = ['valjean','Strawberry']\n",
        "valjean_penny_words.columns = ['valjean','Penny_Lane']"
      ],
      "metadata": {
        "id": "SVKWGcMZ_n96"
      },
      "execution_count": 22,
      "outputs": []
    },
    {
      "cell_type": "code",
      "source": [
        "print('Lennon as Cosette: ') \n",
        "print(dot(cosette_straw_words['cosette'], cosette_straw_words[\"Strawberry\"]) / (norm(cosette_straw_words['cosette']) * norm(cosette_straw_words[\"Strawberry\"])))\n",
        "print('Lennon as Valjean: ')\n",
        "print(dot(valjean_straw_words['valjean'], valjean_straw_words[\"Strawberry\"]) / (norm(valjean_straw_words['valjean']) * norm(valjean_straw_words[\"Strawberry\"])))\n",
        "print('McCartney as Cosette: ')\n",
        "print(dot(cosette_penny_words['cosette'], cosette_penny_words[\"Penny_Lane\"]) / (norm(cosette_penny_words['cosette']) * norm(cosette_penny_words[\"Penny_Lane\"])))\n",
        "print('McCartney as Valjean: ')\n",
        "print(dot(valjean_penny_words['valjean'], valjean_penny_words[\"Penny_Lane\"]) / (norm(valjean_penny_words['valjean']) * norm(valjean_penny_words[\"Penny_Lane\"])))"
      ],
      "metadata": {
        "colab": {
          "base_uri": "https://localhost:8080/"
        },
        "id": "xEvOk41-AP9_",
        "outputId": "7a75147f-f808-4094-8334-8da92b9c62bc"
      },
      "execution_count": 23,
      "outputs": [
        {
          "output_type": "stream",
          "name": "stdout",
          "text": [
            "Lennon as Cosette: \n",
            "0.34935207024108916\n",
            "Lennon as Valjean: \n",
            "0.32860898603038086\n",
            "McCartney as Cosette: \n",
            "0.5517627043468121\n",
            "McCartney as Valjean: \n",
            "0.23755684052207143\n"
          ]
        }
      ]
    },
    {
      "cell_type": "markdown",
      "source": [
        "\"stop words\"\n",
        "\n",
        "{‘ourselves’, ‘hers’, ‘between’, ‘yourself’, ‘but’, ‘again’, ‘there’, ‘about’, ‘once’, ‘during’, ‘out’, ‘very’, ‘having’, ‘with’, ‘they’, ‘own’, ‘an’, ‘be’, ‘some’, ‘for’, ‘do’, ‘its’, ‘yours’, ‘such’, ‘into’, ‘of’, ‘most’, ‘itself’, ‘other’, ‘off’, ‘is’, ‘s’, ‘am’, ‘or’, ‘who’, ‘as’, ‘from’, ‘him’, ‘each’, ‘the’, ‘themselves’, ‘until’, ‘below’, ‘are’, ‘we’, ‘these’, ‘your’, ‘his’, ‘through’, ‘don’, ‘nor’, ‘me’, ‘were’, ‘her’, ‘more’, ‘himself’, ‘this’, ‘down’, ‘should’, ‘our’, ‘their’, ‘while’, ‘above’, ‘both’, ‘up’, ‘to’, ‘ours’, ‘had’, ‘she’, ‘all’, ‘no’, ‘when’, ‘at’, ‘any’, ‘before’, ‘them’, ‘same’, ‘and’, ‘been’, ‘have’, ‘in’, ‘will’, ‘on’, ‘does’, ‘yourselves’, ‘then’, ‘that’, ‘because’, ‘what’, ‘over’, ‘why’, ‘so’, ‘can’, ‘did’, ‘not’, ‘now’, ‘under’, ‘he’, ‘you’, ‘herself’, ‘has’, ‘just’, ‘where’, ‘too’, ‘only’, ‘myself’, ‘which’, ‘those’, ‘i’, ‘after’, ‘few’, ‘whom’, ‘t’, ‘being’, ‘if’, ‘theirs’, ‘my’, ‘against’, ‘a’, ‘by’, ‘doing’, ‘it’, ‘how’, ‘further’, ‘was’, ‘here’, ‘than’} \n",
        "\n",
        "Note: You can even modify the list by adding words of your choice in the english .txt. file in the stopwords directory. "
      ],
      "metadata": {
        "id": "_9PjfMXkHNAB"
      }
    },
    {
      "cell_type": "code",
      "source": [
        "#To remove \"stop\" words according to the list above\n",
        "'''\n",
        "from nltk.corpus import stopwords\n",
        "from nltk.tokenize import word_tokenize\n",
        "print(stopwords.words('english'))\n",
        "from nltk.corpus import stopwords\n",
        "from nltk.tokenize import word_tokenize\n",
        " \n",
        "example_sent = \"\"\"This is a sample sentence,\n",
        "                  showing off the stop words filtration.\"\"\"\n",
        "stop_words = set(stopwords.words('english'))\n",
        "word_tokens = word_tokenize(example_sent)\n",
        "filtered_sentence = [w for w in word_tokens if not w.lower() in stop_words]\n",
        "filtered_sentence = []\n",
        " \n",
        "for w in word_tokens:\n",
        "    if w not in stop_words:\n",
        "        filtered_sentence.append(w)\n",
        " \n",
        "print(word_tokens)\n",
        "print(filtered_sentence)\n",
        "\n",
        "import io\n",
        "from nltk.corpus import stopwords\n",
        "from nltk.tokenize import word_tokenize\n",
        " \n",
        "# word_tokenize accepts\n",
        "# a string as an input, not a file.\n",
        "stop_words = set(stopwords.words('english'))\n",
        "file1 = open(\"text.txt\")\n",
        " \n",
        "# Use this to read file content as a stream:\n",
        "line = file1.read()\n",
        "words = line.split()\n",
        "for r in words:\n",
        "    if not r in stop_words:\n",
        "        appendFile = open('filteredtext.txt','a')\n",
        "        appendFile.write(\" \"+r)\n",
        "        appendFile.close()\n",
        "'''"
      ],
      "metadata": {
        "id": "JXhBOXSUEeIV"
      },
      "execution_count": null,
      "outputs": []
    },
    {
      "cell_type": "markdown",
      "metadata": {
        "id": "u-UbDnpWvd_B"
      },
      "source": [
        "We can use this value (cosine similarity = 0.22) as a baseline.  This is the similarity between two songs that were written by close collaborators but we know were not written by the same individual."
      ]
    },
    {
      "cell_type": "markdown",
      "metadata": {
        "id": "hj3Ee1dKwY75"
      },
      "source": [
        "Let's load in two more songs: From Me to You (collaboration, not disputed) and In My Life (the disputed song)"
      ]
    },
    {
      "cell_type": "markdown",
      "metadata": {
        "id": "afk-BeJxxMew"
      },
      "source": [
        "Let's compare In My Life to Penny Lane (McCartney), Strawberry Fields (Lennon) and From Me to You (the undisputed collaboration)"
      ]
    },
    {
      "cell_type": "markdown",
      "metadata": {
        "id": "ozNE0L2apPFm"
      },
      "source": [
        "The cosine similarity between In My Life to all three other songs is higher than the cosine similarity between Strawberry Fields and Penny Lane.\n",
        "\n",
        "It is highest between In My Life and Penny Lane, followed by From Me to You.  In My Life is least Similar to Strawberry Fields.\n",
        "\n",
        "From the Wikipedia article about the Lennon-McCartney collaboration: In 1977, when shown a list of songs Lennon claimed writing on for the magazine Hit Parader, McCartney disputed only \"In My Life\". Lennon said that McCartney helped only with \"the middle eight\" (a short section) of the song. McCartney said that he wrote the entire melody, taking inspiration from Smokey Robinson songs.\n"
      ]
    }
  ],
  "metadata": {
    "colab": {
      "collapsed_sections": [
        "fH0mrztHNjzI",
        "TltR1jtYRhbg",
        "pU7Q7hbWSwHp",
        "aJt-S8zA_Lk9",
        "46cJIv0YL7Jp",
        "59wg1nvaiJeX"
      ],
      "name": "Les_Mis_by_Lennon/McCartney_ben_wood_DS37.ipynb",
      "provenance": []
    },
    "kernelspec": {
      "display_name": "Python 3",
      "language": "python",
      "name": "python3"
    },
    "language_info": {
      "codemirror_mode": {
        "name": "ipython",
        "version": 3
      },
      "file_extension": ".py",
      "mimetype": "text/x-python",
      "name": "python",
      "nbconvert_exporter": "python",
      "pygments_lexer": "ipython3",
      "version": "3.8.8"
    }
  },
  "nbformat": 4,
  "nbformat_minor": 0
}